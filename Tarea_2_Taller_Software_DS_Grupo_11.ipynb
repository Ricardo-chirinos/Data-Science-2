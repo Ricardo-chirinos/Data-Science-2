import pandas as pd
import numpy as np

# Parámetros
np.random.seed(42)
num_clientes = 150
num_ventas = 300

# Distribuciones y categorías para clientes
ciudades = ['Santiago', 'Concepción', 'Rancagua', 'Viña del Mar', 'Valparaíso']
categorias_fav = ['Alimentos', 'Mascotas', 'Electrodomésticos', 'Ropa', 'Juguetes', 'Calzado']
sexo = ['M', 'F']

# Generar dataset clientes
clientes = pd.DataFrame({
    'id_cliente': range(1, num_clientes+1),
    'edad': np.random.normal(35, 10, num_clientes).astype(int),
    'Monto compra promedio': np.random.normal(150000, 50000, num_clientes).round(0),
    'ciudad': np.random.choice(ciudades, num_clientes),
    'Sexo': np.random.choice(sexo, num_clientes),
    'número de compras': np.random.poisson(5, num_clientes),
    'visitas a la web': np.random.poisson(20, num_clientes),
    'Categoría favorita': np.random.choice(categorias_fav, num_clientes),
    'Sesión promedio': np.random.exponential(10, num_clientes).round(2)  # en minutos
})

# Introducir valores nulos (5-10%) en columnas seleccionadas
for col in ['edad', 'Monto compra promedio', 'ciudad', 'Sexo']:
    clientes.loc[clientes.sample(frac=0.08).index, col] = np.nan

# Mostrar un vistazo
print(clientes.head())

# Variables para ventas
productos = categorias_fav.copy()  # para simplificar
tipo_entrega = ['retiro en tienda', 'despacho']
calif_exp = list(range(1, 8))  # 1 a 7

# Generar dataset ventas
ventas = pd.DataFrame({
    'id_venta': range(1, num_ventas+1),
    'id_cliente': np.random.choice(clientes['id_cliente'].dropna(), num_ventas),
    'Monto total': np.random.normal(180000, 70000, num_ventas).round(0),
    'calificación experiencia': np.random.choice(calif_exp, num_ventas),
    'ciudad': np.random.choice(ciudades, num_ventas),
    'categoría productos': np.random.choice(productos, num_ventas),
    'tipo de entrega': np.random.choice(tipo_entrega, num_ventas)
})

# Introducir valores nulos
